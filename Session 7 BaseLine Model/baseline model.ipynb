{
 "cells": [
  {
   "cell_type": "code",
   "execution_count": 1,
   "id": "4ea12e19",
   "metadata": {},
   "outputs": [],
   "source": [
    "import numpy as np\n",
    "import pandas as pd"
   ]
  },
  {
   "cell_type": "code",
   "execution_count": 2,
   "id": "ffd96c05",
   "metadata": {},
   "outputs": [],
   "source": [
    "df = pd.read_csv('gurgoan_properties_post_feature_selection.csv')"
   ]
  },
  {
   "cell_type": "code",
   "execution_count": 3,
   "id": "df74a61d",
   "metadata": {},
   "outputs": [
    {
     "data": {
      "text/html": [
       "<div>\n",
       "<style scoped>\n",
       "    .dataframe tbody tr th:only-of-type {\n",
       "        vertical-align: middle;\n",
       "    }\n",
       "\n",
       "    .dataframe tbody tr th {\n",
       "        vertical-align: top;\n",
       "    }\n",
       "\n",
       "    .dataframe thead th {\n",
       "        text-align: right;\n",
       "    }\n",
       "</style>\n",
       "<table border=\"1\" class=\"dataframe\">\n",
       "  <thead>\n",
       "    <tr style=\"text-align: right;\">\n",
       "      <th></th>\n",
       "      <th>property_type</th>\n",
       "      <th>sector</th>\n",
       "      <th>bedRoom</th>\n",
       "      <th>bathroom</th>\n",
       "      <th>balcony</th>\n",
       "      <th>agePossession</th>\n",
       "      <th>built_up_area</th>\n",
       "      <th>servant room</th>\n",
       "      <th>store room</th>\n",
       "      <th>furnishing_type</th>\n",
       "      <th>luxury_category</th>\n",
       "      <th>floor_category</th>\n",
       "      <th>price</th>\n",
       "    </tr>\n",
       "  </thead>\n",
       "  <tbody>\n",
       "    <tr>\n",
       "      <th>0</th>\n",
       "      <td>0.0</td>\n",
       "      <td>36.0</td>\n",
       "      <td>3.0</td>\n",
       "      <td>2.0</td>\n",
       "      <td>2.0</td>\n",
       "      <td>1.0</td>\n",
       "      <td>850.0</td>\n",
       "      <td>0.0</td>\n",
       "      <td>0.0</td>\n",
       "      <td>0.0</td>\n",
       "      <td>1.0</td>\n",
       "      <td>1.0</td>\n",
       "      <td>0.82</td>\n",
       "    </tr>\n",
       "    <tr>\n",
       "      <th>1</th>\n",
       "      <td>0.0</td>\n",
       "      <td>95.0</td>\n",
       "      <td>2.0</td>\n",
       "      <td>2.0</td>\n",
       "      <td>2.0</td>\n",
       "      <td>1.0</td>\n",
       "      <td>1226.0</td>\n",
       "      <td>1.0</td>\n",
       "      <td>0.0</td>\n",
       "      <td>0.0</td>\n",
       "      <td>1.0</td>\n",
       "      <td>2.0</td>\n",
       "      <td>0.95</td>\n",
       "    </tr>\n",
       "    <tr>\n",
       "      <th>2</th>\n",
       "      <td>0.0</td>\n",
       "      <td>92.0</td>\n",
       "      <td>2.0</td>\n",
       "      <td>2.0</td>\n",
       "      <td>1.0</td>\n",
       "      <td>4.0</td>\n",
       "      <td>681.4</td>\n",
       "      <td>0.0</td>\n",
       "      <td>0.0</td>\n",
       "      <td>0.0</td>\n",
       "      <td>1.0</td>\n",
       "      <td>1.0</td>\n",
       "      <td>0.46</td>\n",
       "    </tr>\n",
       "    <tr>\n",
       "      <th>3</th>\n",
       "      <td>0.0</td>\n",
       "      <td>103.0</td>\n",
       "      <td>2.0</td>\n",
       "      <td>2.0</td>\n",
       "      <td>1.0</td>\n",
       "      <td>1.0</td>\n",
       "      <td>1000.0</td>\n",
       "      <td>0.0</td>\n",
       "      <td>0.0</td>\n",
       "      <td>0.0</td>\n",
       "      <td>1.0</td>\n",
       "      <td>0.0</td>\n",
       "      <td>0.32</td>\n",
       "    </tr>\n",
       "    <tr>\n",
       "      <th>4</th>\n",
       "      <td>0.0</td>\n",
       "      <td>99.0</td>\n",
       "      <td>3.0</td>\n",
       "      <td>4.0</td>\n",
       "      <td>4.0</td>\n",
       "      <td>3.0</td>\n",
       "      <td>1615.0</td>\n",
       "      <td>1.0</td>\n",
       "      <td>0.0</td>\n",
       "      <td>1.0</td>\n",
       "      <td>0.0</td>\n",
       "      <td>2.0</td>\n",
       "      <td>1.60</td>\n",
       "    </tr>\n",
       "  </tbody>\n",
       "</table>\n",
       "</div>"
      ],
      "text/plain": [
       "   property_type  sector  bedRoom  bathroom  balcony  agePossession  \\\n",
       "0            0.0    36.0      3.0       2.0      2.0            1.0   \n",
       "1            0.0    95.0      2.0       2.0      2.0            1.0   \n",
       "2            0.0    92.0      2.0       2.0      1.0            4.0   \n",
       "3            0.0   103.0      2.0       2.0      1.0            1.0   \n",
       "4            0.0    99.0      3.0       4.0      4.0            3.0   \n",
       "\n",
       "   built_up_area  servant room  store room  furnishing_type  luxury_category  \\\n",
       "0          850.0           0.0         0.0              0.0              1.0   \n",
       "1         1226.0           1.0         0.0              0.0              1.0   \n",
       "2          681.4           0.0         0.0              0.0              1.0   \n",
       "3         1000.0           0.0         0.0              0.0              1.0   \n",
       "4         1615.0           1.0         0.0              1.0              0.0   \n",
       "\n",
       "   floor_category  price  \n",
       "0             1.0   0.82  \n",
       "1             2.0   0.95  \n",
       "2             1.0   0.46  \n",
       "3             0.0   0.32  \n",
       "4             2.0   1.60  "
      ]
     },
     "execution_count": 3,
     "metadata": {},
     "output_type": "execute_result"
    }
   ],
   "source": [
    "df.head()"
   ]
  },
  {
   "cell_type": "code",
   "execution_count": 4,
   "id": "bb730079",
   "metadata": {},
   "outputs": [],
   "source": [
    "#One head encode--> sector, balcony, agePossession, furnishing_type, luxury_category, floor category"
   ]
  },
  {
   "cell_type": "code",
   "execution_count": 5,
   "id": "b0e25efa",
   "metadata": {},
   "outputs": [],
   "source": [
    "X = df.drop(columns='price')\n",
    "y =df['price']"
   ]
  },
  {
   "cell_type": "code",
   "execution_count": 6,
   "id": "6ac67c71",
   "metadata": {},
   "outputs": [],
   "source": [
    "from sklearn.model_selection import KFold, cross_val_score\n",
    "from sklearn.linear_model import LinearRegression\n",
    "from sklearn.pipeline import Pipeline\n",
    "from sklearn.preprocessing import OneHotEncoder, StandardScaler\n",
    "from sklearn.compose import ColumnTransformer\n",
    "from sklearn.svm import SVR"
   ]
  },
  {
   "cell_type": "code",
   "execution_count": 7,
   "id": "6b73033d",
   "metadata": {},
   "outputs": [],
   "source": [
    "columns_to_encode = ['sector', 'balcony', 'agePossession', 'furnishing_type', 'luxury_category', 'floor_category']"
   ]
  },
  {
   "cell_type": "code",
   "execution_count": 8,
   "id": "c644dbe7",
   "metadata": {},
   "outputs": [],
   "source": [
    "#Applying the Log1p transformation to the target variable\n",
    "\n",
    "y_transformed = np.log1p(y)"
   ]
  },
  {
   "cell_type": "code",
   "execution_count": 9,
   "id": "56ef1565",
   "metadata": {},
   "outputs": [],
   "source": [
    "#creating a column transformer for preprocessing\n",
    "preprocessor = ColumnTransformer(\n",
    "    transformers = [\n",
    "        ('num', StandardScaler(), ['property_type', 'bedRoom','bathroom','built_up_area', 'servant room', 'store room']),\n",
    "        ('cat', OneHotEncoder(drop='first'), columns_to_encode)\n",
    "    ],\n",
    "    remainder= 'passthrough'\n",
    ")"
   ]
  },
  {
   "cell_type": "code",
   "execution_count": 10,
   "id": "abbc440d",
   "metadata": {},
   "outputs": [],
   "source": [
    "#Creating a Pipe Line\n",
    "pipeline = Pipeline([\n",
    "    ('preprocessor', preprocessor),\n",
    "    ('regressor', LinearRegression())\n",
    "    \n",
    "])\n"
   ]
  },
  {
   "cell_type": "code",
   "execution_count": 11,
   "id": "09e00963",
   "metadata": {},
   "outputs": [],
   "source": [
    "#K-fold cross-validation\n",
    "kfold = KFold(n_splits=10, shuffle=True, random_state=42)\n",
    "scores= cross_val_score(pipeline, X, y_transformed, cv=kfold, scoring= 'r2')\n"
   ]
  },
  {
   "cell_type": "code",
   "execution_count": 12,
   "id": "08255e40",
   "metadata": {},
   "outputs": [
    {
     "data": {
      "text/plain": [
       "0.8585977346273893"
      ]
     },
     "execution_count": 12,
     "metadata": {},
     "output_type": "execute_result"
    }
   ],
   "source": [
    "scores.mean()"
   ]
  },
  {
   "cell_type": "code",
   "execution_count": 13,
   "id": "581a78cf",
   "metadata": {},
   "outputs": [
    {
     "data": {
      "text/plain": [
       "0.016842732638532615"
      ]
     },
     "execution_count": 13,
     "metadata": {},
     "output_type": "execute_result"
    }
   ],
   "source": [
    "scores.std()"
   ]
  },
  {
   "cell_type": "code",
   "execution_count": 14,
   "id": "43b99c16",
   "metadata": {},
   "outputs": [],
   "source": [
    "# Mean absolute error(to see how much error the model is making)\n",
    "from sklearn.model_selection import train_test_split\n",
    "X_train, X_test, y_train, y_test = train_test_split(X,y_transformed, test_size= 0.2, random_state= 42)"
   ]
  },
  {
   "cell_type": "code",
   "execution_count": 15,
   "id": "fc087642",
   "metadata": {},
   "outputs": [
    {
     "data": {
      "text/html": [
       "<style>#sk-container-id-1 {color: black;background-color: white;}#sk-container-id-1 pre{padding: 0;}#sk-container-id-1 div.sk-toggleable {background-color: white;}#sk-container-id-1 label.sk-toggleable__label {cursor: pointer;display: block;width: 100%;margin-bottom: 0;padding: 0.3em;box-sizing: border-box;text-align: center;}#sk-container-id-1 label.sk-toggleable__label-arrow:before {content: \"▸\";float: left;margin-right: 0.25em;color: #696969;}#sk-container-id-1 label.sk-toggleable__label-arrow:hover:before {color: black;}#sk-container-id-1 div.sk-estimator:hover label.sk-toggleable__label-arrow:before {color: black;}#sk-container-id-1 div.sk-toggleable__content {max-height: 0;max-width: 0;overflow: hidden;text-align: left;background-color: #f0f8ff;}#sk-container-id-1 div.sk-toggleable__content pre {margin: 0.2em;color: black;border-radius: 0.25em;background-color: #f0f8ff;}#sk-container-id-1 input.sk-toggleable__control:checked~div.sk-toggleable__content {max-height: 200px;max-width: 100%;overflow: auto;}#sk-container-id-1 input.sk-toggleable__control:checked~label.sk-toggleable__label-arrow:before {content: \"▾\";}#sk-container-id-1 div.sk-estimator input.sk-toggleable__control:checked~label.sk-toggleable__label {background-color: #d4ebff;}#sk-container-id-1 div.sk-label input.sk-toggleable__control:checked~label.sk-toggleable__label {background-color: #d4ebff;}#sk-container-id-1 input.sk-hidden--visually {border: 0;clip: rect(1px 1px 1px 1px);clip: rect(1px, 1px, 1px, 1px);height: 1px;margin: -1px;overflow: hidden;padding: 0;position: absolute;width: 1px;}#sk-container-id-1 div.sk-estimator {font-family: monospace;background-color: #f0f8ff;border: 1px dotted black;border-radius: 0.25em;box-sizing: border-box;margin-bottom: 0.5em;}#sk-container-id-1 div.sk-estimator:hover {background-color: #d4ebff;}#sk-container-id-1 div.sk-parallel-item::after {content: \"\";width: 100%;border-bottom: 1px solid gray;flex-grow: 1;}#sk-container-id-1 div.sk-label:hover label.sk-toggleable__label {background-color: #d4ebff;}#sk-container-id-1 div.sk-serial::before {content: \"\";position: absolute;border-left: 1px solid gray;box-sizing: border-box;top: 0;bottom: 0;left: 50%;z-index: 0;}#sk-container-id-1 div.sk-serial {display: flex;flex-direction: column;align-items: center;background-color: white;padding-right: 0.2em;padding-left: 0.2em;position: relative;}#sk-container-id-1 div.sk-item {position: relative;z-index: 1;}#sk-container-id-1 div.sk-parallel {display: flex;align-items: stretch;justify-content: center;background-color: white;position: relative;}#sk-container-id-1 div.sk-item::before, #sk-container-id-1 div.sk-parallel-item::before {content: \"\";position: absolute;border-left: 1px solid gray;box-sizing: border-box;top: 0;bottom: 0;left: 50%;z-index: -1;}#sk-container-id-1 div.sk-parallel-item {display: flex;flex-direction: column;z-index: 1;position: relative;background-color: white;}#sk-container-id-1 div.sk-parallel-item:first-child::after {align-self: flex-end;width: 50%;}#sk-container-id-1 div.sk-parallel-item:last-child::after {align-self: flex-start;width: 50%;}#sk-container-id-1 div.sk-parallel-item:only-child::after {width: 0;}#sk-container-id-1 div.sk-dashed-wrapped {border: 1px dashed gray;margin: 0 0.4em 0.5em 0.4em;box-sizing: border-box;padding-bottom: 0.4em;background-color: white;}#sk-container-id-1 div.sk-label label {font-family: monospace;font-weight: bold;display: inline-block;line-height: 1.2em;}#sk-container-id-1 div.sk-label-container {text-align: center;}#sk-container-id-1 div.sk-container {/* jupyter's `normalize.less` sets `[hidden] { display: none; }` but bootstrap.min.css set `[hidden] { display: none !important; }` so we also need the `!important` here to be able to override the default hidden behavior on the sphinx rendered scikit-learn.org. See: https://github.com/scikit-learn/scikit-learn/issues/21755 */display: inline-block !important;position: relative;}#sk-container-id-1 div.sk-text-repr-fallback {display: none;}</style><div id=\"sk-container-id-1\" class=\"sk-top-container\"><div class=\"sk-text-repr-fallback\"><pre>Pipeline(steps=[(&#x27;preprocessor&#x27;,\n",
       "                 ColumnTransformer(remainder=&#x27;passthrough&#x27;,\n",
       "                                   transformers=[(&#x27;num&#x27;, StandardScaler(),\n",
       "                                                  [&#x27;property_type&#x27;, &#x27;bedRoom&#x27;,\n",
       "                                                   &#x27;bathroom&#x27;, &#x27;built_up_area&#x27;,\n",
       "                                                   &#x27;servant room&#x27;,\n",
       "                                                   &#x27;store room&#x27;]),\n",
       "                                                 (&#x27;cat&#x27;,\n",
       "                                                  OneHotEncoder(drop=&#x27;first&#x27;),\n",
       "                                                  [&#x27;sector&#x27;, &#x27;balcony&#x27;,\n",
       "                                                   &#x27;agePossession&#x27;,\n",
       "                                                   &#x27;furnishing_type&#x27;,\n",
       "                                                   &#x27;luxury_category&#x27;,\n",
       "                                                   &#x27;floor_category&#x27;])])),\n",
       "                (&#x27;regressor&#x27;, LinearRegression())])</pre><b>In a Jupyter environment, please rerun this cell to show the HTML representation or trust the notebook. <br />On GitHub, the HTML representation is unable to render, please try loading this page with nbviewer.org.</b></div><div class=\"sk-container\" hidden><div class=\"sk-item sk-dashed-wrapped\"><div class=\"sk-label-container\"><div class=\"sk-label sk-toggleable\"><input class=\"sk-toggleable__control sk-hidden--visually\" id=\"sk-estimator-id-1\" type=\"checkbox\" ><label for=\"sk-estimator-id-1\" class=\"sk-toggleable__label sk-toggleable__label-arrow\">Pipeline</label><div class=\"sk-toggleable__content\"><pre>Pipeline(steps=[(&#x27;preprocessor&#x27;,\n",
       "                 ColumnTransformer(remainder=&#x27;passthrough&#x27;,\n",
       "                                   transformers=[(&#x27;num&#x27;, StandardScaler(),\n",
       "                                                  [&#x27;property_type&#x27;, &#x27;bedRoom&#x27;,\n",
       "                                                   &#x27;bathroom&#x27;, &#x27;built_up_area&#x27;,\n",
       "                                                   &#x27;servant room&#x27;,\n",
       "                                                   &#x27;store room&#x27;]),\n",
       "                                                 (&#x27;cat&#x27;,\n",
       "                                                  OneHotEncoder(drop=&#x27;first&#x27;),\n",
       "                                                  [&#x27;sector&#x27;, &#x27;balcony&#x27;,\n",
       "                                                   &#x27;agePossession&#x27;,\n",
       "                                                   &#x27;furnishing_type&#x27;,\n",
       "                                                   &#x27;luxury_category&#x27;,\n",
       "                                                   &#x27;floor_category&#x27;])])),\n",
       "                (&#x27;regressor&#x27;, LinearRegression())])</pre></div></div></div><div class=\"sk-serial\"><div class=\"sk-item sk-dashed-wrapped\"><div class=\"sk-label-container\"><div class=\"sk-label sk-toggleable\"><input class=\"sk-toggleable__control sk-hidden--visually\" id=\"sk-estimator-id-2\" type=\"checkbox\" ><label for=\"sk-estimator-id-2\" class=\"sk-toggleable__label sk-toggleable__label-arrow\">preprocessor: ColumnTransformer</label><div class=\"sk-toggleable__content\"><pre>ColumnTransformer(remainder=&#x27;passthrough&#x27;,\n",
       "                  transformers=[(&#x27;num&#x27;, StandardScaler(),\n",
       "                                 [&#x27;property_type&#x27;, &#x27;bedRoom&#x27;, &#x27;bathroom&#x27;,\n",
       "                                  &#x27;built_up_area&#x27;, &#x27;servant room&#x27;,\n",
       "                                  &#x27;store room&#x27;]),\n",
       "                                (&#x27;cat&#x27;, OneHotEncoder(drop=&#x27;first&#x27;),\n",
       "                                 [&#x27;sector&#x27;, &#x27;balcony&#x27;, &#x27;agePossession&#x27;,\n",
       "                                  &#x27;furnishing_type&#x27;, &#x27;luxury_category&#x27;,\n",
       "                                  &#x27;floor_category&#x27;])])</pre></div></div></div><div class=\"sk-parallel\"><div class=\"sk-parallel-item\"><div class=\"sk-item\"><div class=\"sk-label-container\"><div class=\"sk-label sk-toggleable\"><input class=\"sk-toggleable__control sk-hidden--visually\" id=\"sk-estimator-id-3\" type=\"checkbox\" ><label for=\"sk-estimator-id-3\" class=\"sk-toggleable__label sk-toggleable__label-arrow\">num</label><div class=\"sk-toggleable__content\"><pre>[&#x27;property_type&#x27;, &#x27;bedRoom&#x27;, &#x27;bathroom&#x27;, &#x27;built_up_area&#x27;, &#x27;servant room&#x27;, &#x27;store room&#x27;]</pre></div></div></div><div class=\"sk-serial\"><div class=\"sk-item\"><div class=\"sk-estimator sk-toggleable\"><input class=\"sk-toggleable__control sk-hidden--visually\" id=\"sk-estimator-id-4\" type=\"checkbox\" ><label for=\"sk-estimator-id-4\" class=\"sk-toggleable__label sk-toggleable__label-arrow\">StandardScaler</label><div class=\"sk-toggleable__content\"><pre>StandardScaler()</pre></div></div></div></div></div></div><div class=\"sk-parallel-item\"><div class=\"sk-item\"><div class=\"sk-label-container\"><div class=\"sk-label sk-toggleable\"><input class=\"sk-toggleable__control sk-hidden--visually\" id=\"sk-estimator-id-5\" type=\"checkbox\" ><label for=\"sk-estimator-id-5\" class=\"sk-toggleable__label sk-toggleable__label-arrow\">cat</label><div class=\"sk-toggleable__content\"><pre>[&#x27;sector&#x27;, &#x27;balcony&#x27;, &#x27;agePossession&#x27;, &#x27;furnishing_type&#x27;, &#x27;luxury_category&#x27;, &#x27;floor_category&#x27;]</pre></div></div></div><div class=\"sk-serial\"><div class=\"sk-item\"><div class=\"sk-estimator sk-toggleable\"><input class=\"sk-toggleable__control sk-hidden--visually\" id=\"sk-estimator-id-6\" type=\"checkbox\" ><label for=\"sk-estimator-id-6\" class=\"sk-toggleable__label sk-toggleable__label-arrow\">OneHotEncoder</label><div class=\"sk-toggleable__content\"><pre>OneHotEncoder(drop=&#x27;first&#x27;)</pre></div></div></div></div></div></div><div class=\"sk-parallel-item\"><div class=\"sk-item\"><div class=\"sk-label-container\"><div class=\"sk-label sk-toggleable\"><input class=\"sk-toggleable__control sk-hidden--visually\" id=\"sk-estimator-id-7\" type=\"checkbox\" ><label for=\"sk-estimator-id-7\" class=\"sk-toggleable__label sk-toggleable__label-arrow\">remainder</label><div class=\"sk-toggleable__content\"><pre>[]</pre></div></div></div><div class=\"sk-serial\"><div class=\"sk-item\"><div class=\"sk-estimator sk-toggleable\"><input class=\"sk-toggleable__control sk-hidden--visually\" id=\"sk-estimator-id-8\" type=\"checkbox\" ><label for=\"sk-estimator-id-8\" class=\"sk-toggleable__label sk-toggleable__label-arrow\">passthrough</label><div class=\"sk-toggleable__content\"><pre>passthrough</pre></div></div></div></div></div></div></div></div><div class=\"sk-item\"><div class=\"sk-estimator sk-toggleable\"><input class=\"sk-toggleable__control sk-hidden--visually\" id=\"sk-estimator-id-9\" type=\"checkbox\" ><label for=\"sk-estimator-id-9\" class=\"sk-toggleable__label sk-toggleable__label-arrow\">LinearRegression</label><div class=\"sk-toggleable__content\"><pre>LinearRegression()</pre></div></div></div></div></div></div></div>"
      ],
      "text/plain": [
       "Pipeline(steps=[('preprocessor',\n",
       "                 ColumnTransformer(remainder='passthrough',\n",
       "                                   transformers=[('num', StandardScaler(),\n",
       "                                                  ['property_type', 'bedRoom',\n",
       "                                                   'bathroom', 'built_up_area',\n",
       "                                                   'servant room',\n",
       "                                                   'store room']),\n",
       "                                                 ('cat',\n",
       "                                                  OneHotEncoder(drop='first'),\n",
       "                                                  ['sector', 'balcony',\n",
       "                                                   'agePossession',\n",
       "                                                   'furnishing_type',\n",
       "                                                   'luxury_category',\n",
       "                                                   'floor_category'])])),\n",
       "                ('regressor', LinearRegression())])"
      ]
     },
     "execution_count": 15,
     "metadata": {},
     "output_type": "execute_result"
    }
   ],
   "source": [
    "pipeline.fit(X_train, y_train)\n"
   ]
  },
  {
   "cell_type": "code",
   "execution_count": 16,
   "id": "3b20b5e7",
   "metadata": {},
   "outputs": [],
   "source": [
    "y_pred = pipeline.predict(X_test)"
   ]
  },
  {
   "cell_type": "code",
   "execution_count": 17,
   "id": "4ba33225",
   "metadata": {},
   "outputs": [],
   "source": [
    "y_pred = np.expm1(y_pred)"
   ]
  },
  {
   "cell_type": "code",
   "execution_count": 18,
   "id": "711fd395",
   "metadata": {},
   "outputs": [
    {
     "data": {
      "text/plain": [
       "array([ 2.90954021,  7.58793289,  1.03302035,  1.24977873,  3.75547161,\n",
       "        2.37585324,  0.96446102,  0.27061821,  1.25665839,  2.0759656 ,\n",
       "        1.12449916,  3.52620535,  1.1164123 ,  0.6868566 , 13.35051375,\n",
       "        1.64614599,  3.77806307,  1.89918064,  1.5039134 ,  0.9466332 ,\n",
       "        2.25367536,  0.95905055,  0.60933531,  0.51624874,  0.47328221,\n",
       "        1.52454919,  2.18338218,  2.61412026,  1.17720056,  1.12300352,\n",
       "        1.19583088,  0.66981073,  0.32267063,  3.69263509,  4.40559336,\n",
       "        1.27558818,  0.48977076,  1.59151871,  8.21163754,  1.86344612,\n",
       "        1.53969058,  5.39211419,  2.20782498,  7.05912192,  0.62065641,\n",
       "        0.65197338,  1.45890341,  2.17059761,  1.40684383,  0.17779363,\n",
       "        6.69123228,  2.1808157 ,  0.45687724,  2.93775428,  7.78738261,\n",
       "        1.80951713,  1.04572935,  2.3113352 ,  3.29188392,  1.64688312,\n",
       "        2.17848233,  1.02831209,  2.9700539 ,  1.73431399,  1.52417936,\n",
       "        0.66123444,  4.84552774,  2.44362926,  8.20438849,  1.69589103,\n",
       "        2.01293252,  0.39106137,  0.64988991,  6.76896034,  1.75116836,\n",
       "       10.92904059,  0.49303886,  1.29431161,  3.14138789,  1.45178904,\n",
       "        3.23433174,  0.52531339,  3.42235759,  1.74658078,  1.54939356,\n",
       "        3.7752994 ,  1.01733365,  0.50554181,  0.44455247,  1.29343931,\n",
       "        2.22700043,  1.20878147,  2.23906052,  1.04066969,  0.44864364,\n",
       "        3.6125629 ,  1.32976658,  1.47823566,  0.92374438,  1.84600272,\n",
       "        0.71651736,  1.72729599,  0.6715484 ,  0.87333184,  2.23200938,\n",
       "        3.85664241,  2.43791985,  1.40688648,  0.43233788,  0.44288194,\n",
       "        1.42433417,  4.99082397,  0.36581019,  2.94405734,  1.70386134,\n",
       "        3.76381394,  0.72760535,  0.68744338,  1.072329  ,  3.93928982,\n",
       "        1.97019149,  1.21164512,  0.24899108,  1.74658078, 12.16616035,\n",
       "        2.30652845,  1.68684611,  0.69975156,  0.36225376,  0.4760936 ,\n",
       "        0.82676499, 23.33709132,  1.62958298,  2.69084222,  0.82083946,\n",
       "        9.2141184 ,  2.33057187,  0.80864398,  1.10947605,  1.11821177,\n",
       "        1.53161209,  3.59308311,  1.70946337,  0.62267627,  4.59029803,\n",
       "        6.56712939,  1.86473783,  0.36496096,  7.39222949,  3.13034662,\n",
       "        4.72081666,  0.60281903,  0.76542359,  1.49461754,  3.21595027,\n",
       "        1.82440232,  5.49878797,  3.27871622,  0.90669062,  1.31191244,\n",
       "        1.61784162,  0.89970857,  1.44074198,  1.97068104,  1.10321044,\n",
       "        2.44317462,  2.26816405,  2.93240513,  2.0279466 ,  2.67240485,\n",
       "        0.82109521,  0.9979135 ,  3.75037427,  0.351709  ,  0.58105031,\n",
       "        1.01411804,  1.54155557,  1.77857182,  1.19244574,  0.73479628,\n",
       "        1.48300756,  0.80863426,  1.26411624,  0.83537205,  3.96778855,\n",
       "        0.93970997,  4.39482188,  0.51923025,  1.02980361,  0.92836454,\n",
       "        6.20765692,  1.45573504,  1.14815734,  1.97502653,  2.06850378,\n",
       "        0.37825493,  1.75704555,  1.43016868,  0.71917253,  1.01669712,\n",
       "        0.475285  ,  1.42946195,  0.66191233,  2.15931326,  5.34998538,\n",
       "       11.92654951,  2.33953622,  0.45084631,  0.95503514,  1.5084667 ,\n",
       "        1.62894367,  1.08797507,  2.35913947,  1.05092578,  6.23345309,\n",
       "        1.6683685 ,  2.03645006,  3.25786566, 34.57669577,  0.3891083 ,\n",
       "        1.29758489,  1.42470793,  1.05123328,  1.5374685 , 53.94769782,\n",
       "        6.06891077,  0.73280644,  0.59553707,  1.35913769,  6.84526628,\n",
       "        0.37709391,  4.65563994,  1.94722653,  2.44258803,  1.86070181,\n",
       "        2.14284338,  1.3512879 , 10.20711723,  4.0034119 ,  1.59467592,\n",
       "        1.01790145,  2.07964593,  1.29733975,  2.16071407,  6.12024971,\n",
       "        0.45717157,  0.52790609,  1.03885644,  0.48342905,  7.55940575,\n",
       "        3.30001715,  1.08727502,  2.93216354,  1.67489582,  1.18190827,\n",
       "        0.52627303,  1.34636578,  1.30967789,  2.34927794,  0.88555397,\n",
       "        1.72068233,  1.00942221,  1.3229109 ,  4.37631933,  3.67316512,\n",
       "        0.96230361,  7.45563369,  1.51196564,  2.32641664,  1.01293675,\n",
       "        0.31888688,  2.35196898,  0.78216217,  1.22300546,  2.12253781,\n",
       "        1.85831413,  1.45957523,  1.00620908,  1.12913643,  0.33759983,\n",
       "        0.95385843,  3.20639702,  1.64846856,  3.13521434,  2.72318276,\n",
       "        0.39206339,  3.90291666,  1.12238794,  0.13293745,  3.65388012,\n",
       "        0.53439574,  5.1026016 ,  1.22165928,  1.48102748,  2.34519215,\n",
       "        2.93342464,  1.46413124,  1.24306291,  0.34913208,  2.32909253,\n",
       "        0.37390225,  0.61391436,  0.59277902,  0.67360446,  0.83306459,\n",
       "        0.82111489,  1.94106883,  1.60233342,  0.66463281,  1.35415248,\n",
       "        0.68264041,  1.57098695,  5.59497793,  1.23922172,  2.70451157,\n",
       "        5.96552227,  1.14981154,  1.16878443,  2.29561169,  7.83107412,\n",
       "        0.27061821,  0.69728854,  0.55701864, 14.44051729,  0.39196563,\n",
       "       11.31764219,  5.34595103,  0.73735454,  1.1885456 ,  1.85048343,\n",
       "        2.70359512,  2.61661085,  0.9649959 ,  0.39178516,  0.86583825,\n",
       "        3.33025944,  1.277752  ,  1.59968594,  1.34186569,  1.32850125,\n",
       "        0.94589437,  0.25799442,  2.22933632,  1.25652365,  4.70822619,\n",
       "        0.99147664,  3.21441384,  0.65155135,  1.17495536,  2.09118741,\n",
       "        0.48094056,  1.5756336 ,  1.65337813,  1.83765746,  1.94922631,\n",
       "        0.64133799,  2.03132792,  1.10128124,  2.46936411,  1.59393567,\n",
       "        1.82378605,  0.57672257,  4.02382184,  5.09142832,  0.11749075,\n",
       "        1.50553416,  1.00878486,  0.82284199,  1.20529706,  2.03358981,\n",
       "        0.48158707,  1.75910736,  1.26124427,  1.54100649,  2.37746381,\n",
       "        0.31586807,  0.45998029,  1.22864574,  2.04885449,  3.55684794,\n",
       "        0.70141478,  2.933094  ,  4.0466261 ,  2.31704698,  1.40163427,\n",
       "        1.86863531,  2.07774188,  0.96159069,  0.87460942,  3.38394488,\n",
       "        2.68501421,  1.02824851,  3.22114768,  0.9301564 ,  2.90111978,\n",
       "        2.40809077,  1.886165  ,  0.64081237,  0.68415679,  1.36764327,\n",
       "        2.40835752,  0.9699645 ,  0.7886682 ,  3.40684113,  0.87991141,\n",
       "        0.72179985,  2.61706965,  2.95718545,  0.80058116,  2.57195331,\n",
       "        7.45901697,  1.80833933,  1.18239863,  0.82323402,  1.54572114,\n",
       "        1.5654123 ,  2.27434238,  1.09338409,  3.58188133,  3.75701364,\n",
       "        0.92074381,  4.71905698,  3.63427929,  1.22722759,  0.3773714 ,\n",
       "        2.06429178,  1.35471198,  0.28805136,  1.98913426,  1.30898841,\n",
       "        1.59802583,  7.29112676,  1.17075993,  7.7847665 ,  1.42140773,\n",
       "        4.02246123,  0.74412763,  5.0098296 ,  2.97761774,  5.15475522,\n",
       "        1.62029425,  0.79054946,  2.01245023,  0.81151393,  1.42943745,\n",
       "        1.58069764,  1.68223436,  1.4084593 ,  0.80895845,  0.38744865,\n",
       "        0.51478441,  5.31965282,  2.40768319,  0.53967151,  0.99290571,\n",
       "        0.63866994,  3.16059246,  0.8218003 ,  1.15781461,  1.01010617,\n",
       "        1.42836294,  1.67951296,  0.37882519,  1.41873941,  3.15162498,\n",
       "        1.47188995,  4.30729314,  2.92723915,  3.08080899,  2.81484743,\n",
       "        1.1109397 ,  2.65146035,  0.54884008,  1.39189894,  2.90861929,\n",
       "        4.27570837,  4.19045894,  2.06388698,  1.12969773,  5.05652743,\n",
       "        1.5719109 ,  1.39868131,  2.07259555,  1.03298902,  2.53098742,\n",
       "        2.11745509,  1.79312911,  1.07992192,  2.71386531,  0.93206559,\n",
       "        1.37034069,  2.69043678,  6.56965796,  0.71791267,  4.09357211,\n",
       "        5.34355001,  1.807648  ,  6.61411394,  0.73484801,  1.34207872,\n",
       "        0.51812825,  4.06851854,  1.5719109 ,  1.90691784,  1.91416942,\n",
       "        3.94047713,  0.67934464,  1.11234284,  1.35912034,  2.51955117,\n",
       "        1.75034734,  9.48614755,  4.00133293,  2.46243053,  1.41794586,\n",
       "        0.52474631, 14.73566939,  0.67755189,  2.73939142,  1.25840787,\n",
       "        0.81429155,  2.14003413,  0.91026823,  0.65073927,  2.53911442,\n",
       "        2.21727974,  0.52057511,  1.10021686,  2.10565534,  3.08725498,\n",
       "        0.54880098,  1.64901849,  9.65211731,  8.75907011,  5.69381223,\n",
       "        5.58478285,  5.76182174,  1.84523435,  0.94993397,  0.72338823,\n",
       "        1.26045782,  8.8332697 ,  1.28210939,  1.16083794,  1.47460074,\n",
       "        1.28494002,  0.74156328,  1.12624276,  2.23817385,  3.91445851,\n",
       "        1.36146787,  4.52743526,  1.48774663,  1.25761161,  2.76575426,\n",
       "        0.99799139,  1.10065754,  1.84122876,  0.81622334,  1.60612094,\n",
       "        1.42552629,  0.55775336,  0.69585077,  1.46118645,  3.32276651,\n",
       "        8.64764023,  1.887675  ,  1.69921404,  0.82917172,  1.46641835,\n",
       "        0.59518803,  0.48655443,  2.15082926,  1.29978172,  1.63764462,\n",
       "        0.71767101,  2.84335203,  1.16563834,  1.10217968,  4.69015309,\n",
       "        1.2473193 ,  4.90673471,  0.56945284,  1.60876769,  1.65587798,\n",
       "        3.37788152,  2.90118626,  1.09708952,  0.50247895,  1.57197532,\n",
       "        1.17051505,  1.51153969,  0.60189767,  1.41142768,  0.7649328 ,\n",
       "        0.7139375 ,  0.65352489,  1.43467639,  0.54978946,  1.86184398,\n",
       "        3.13081071,  1.36135856,  0.84082057,  1.83108895,  1.16219733,\n",
       "        3.14138789,  1.62958298,  0.21241021,  3.72862298,  1.37317181,\n",
       "        6.84463358,  0.79037661,  0.71956163,  7.48911971,  1.34151874,\n",
       "        0.80677947,  1.77386141,  2.72861149,  1.27625276,  0.94379268,\n",
       "        4.26775676,  0.86021497,  0.8035902 ,  1.0709362 , 10.09761578,\n",
       "        2.14326657,  0.64562693,  1.84402659,  0.4474043 ,  0.45420477,\n",
       "        1.5088063 ,  3.50707942,  0.56749736,  1.90125096,  1.84481346,\n",
       "        5.69968658,  1.46697405,  2.88052369,  0.27857003,  1.26148837,\n",
       "        0.78682214,  0.98436252,  5.78387271,  1.36079214,  1.18004441,\n",
       "        8.49663548,  1.32941202,  4.52109649,  1.52406651,  2.52132469,\n",
       "        5.36149899,  3.02641888,  0.95332828,  2.19978646,  0.49291075,\n",
       "        1.15629645,  5.48666759,  1.25736473,  9.86554661,  0.80505081,\n",
       "        1.15837666,  3.0665067 ,  2.22554052,  4.77220796,  0.34251289,\n",
       "        3.03696637,  1.32398562,  1.28947298,  0.6715811 ,  1.25005045,\n",
       "        1.0934532 ,  1.49311839,  8.5469657 ,  4.70164739,  1.5654123 ,\n",
       "        1.76006935,  1.70964188,  1.97527429,  0.45314112,  1.78570703,\n",
       "        1.17952313,  0.27500639,  0.64467902,  1.67866243,  1.62104739,\n",
       "        1.3736364 ,  3.77223296,  3.32369784,  1.29644215,  4.49785643,\n",
       "        3.8614386 , 13.11530064,  1.14817245,  0.82395265,  1.2393291 ,\n",
       "        3.33227853,  2.50508846,  1.63213806,  0.79626352,  1.43593914,\n",
       "        0.52895805,  0.55386813,  1.46459298,  3.51357548,  1.29229299,\n",
       "        0.74662077,  1.64357093,  0.38306597,  6.52335541,  3.7329511 ,\n",
       "        5.96571271,  0.96702982,  2.00882954,  0.96034022])"
      ]
     },
     "execution_count": 18,
     "metadata": {},
     "output_type": "execute_result"
    }
   ],
   "source": [
    "y_pred"
   ]
  },
  {
   "cell_type": "code",
   "execution_count": 20,
   "id": "851b30f6",
   "metadata": {},
   "outputs": [
    {
     "data": {
      "text/plain": [
       "0.6783522256391938"
      ]
     },
     "execution_count": 20,
     "metadata": {},
     "output_type": "execute_result"
    }
   ],
   "source": [
    "from sklearn.metrics import mean_absolute_error\n",
    "mean_absolute_error(np.expm1(y_test), y_pred)"
   ]
  },
  {
   "cell_type": "code",
   "execution_count": 21,
   "id": "a3b6e213",
   "metadata": {},
   "outputs": [],
   "source": [
    "# Checking with Support vector Machine\n",
    "\n",
    "#Creating a Pipe Line\n",
    "pipeline = Pipeline([\n",
    "    ('preprocessor', preprocessor),\n",
    "    ('regressor', SVR(kernel= 'rbf'))\n",
    "    \n",
    "])\n"
   ]
  },
  {
   "cell_type": "code",
   "execution_count": 22,
   "id": "d02cebaa",
   "metadata": {},
   "outputs": [],
   "source": [
    "#K-fold cross-validation\n",
    "kfold = KFold(n_splits=10, shuffle=True, random_state=42)\n",
    "scores= cross_val_score(pipeline, X, y_transformed, cv=kfold, scoring= 'r2')\n"
   ]
  },
  {
   "cell_type": "code",
   "execution_count": 23,
   "id": "20833bff",
   "metadata": {},
   "outputs": [
    {
     "data": {
      "text/plain": [
       "0.8889065853056115"
      ]
     },
     "execution_count": 23,
     "metadata": {},
     "output_type": "execute_result"
    }
   ],
   "source": [
    "scores.mean()"
   ]
  },
  {
   "cell_type": "code",
   "execution_count": 24,
   "id": "8e5c8d2b",
   "metadata": {},
   "outputs": [
    {
     "data": {
      "text/plain": [
       "0.019596109327419134"
      ]
     },
     "execution_count": 24,
     "metadata": {},
     "output_type": "execute_result"
    }
   ],
   "source": [
    "scores.std()"
   ]
  },
  {
   "cell_type": "code",
   "execution_count": 25,
   "id": "cba8ae94",
   "metadata": {},
   "outputs": [],
   "source": [
    "# Mean absolute error(to see how much error the model is making)\n",
    "from sklearn.model_selection import train_test_split\n",
    "X_train, X_test, y_train, y_test = train_test_split(X,y_transformed, test_size= 0.2, random_state= 42)"
   ]
  },
  {
   "cell_type": "code",
   "execution_count": 26,
   "id": "4bc62dac",
   "metadata": {},
   "outputs": [
    {
     "data": {
      "text/html": [
       "<style>#sk-container-id-2 {color: black;background-color: white;}#sk-container-id-2 pre{padding: 0;}#sk-container-id-2 div.sk-toggleable {background-color: white;}#sk-container-id-2 label.sk-toggleable__label {cursor: pointer;display: block;width: 100%;margin-bottom: 0;padding: 0.3em;box-sizing: border-box;text-align: center;}#sk-container-id-2 label.sk-toggleable__label-arrow:before {content: \"▸\";float: left;margin-right: 0.25em;color: #696969;}#sk-container-id-2 label.sk-toggleable__label-arrow:hover:before {color: black;}#sk-container-id-2 div.sk-estimator:hover label.sk-toggleable__label-arrow:before {color: black;}#sk-container-id-2 div.sk-toggleable__content {max-height: 0;max-width: 0;overflow: hidden;text-align: left;background-color: #f0f8ff;}#sk-container-id-2 div.sk-toggleable__content pre {margin: 0.2em;color: black;border-radius: 0.25em;background-color: #f0f8ff;}#sk-container-id-2 input.sk-toggleable__control:checked~div.sk-toggleable__content {max-height: 200px;max-width: 100%;overflow: auto;}#sk-container-id-2 input.sk-toggleable__control:checked~label.sk-toggleable__label-arrow:before {content: \"▾\";}#sk-container-id-2 div.sk-estimator input.sk-toggleable__control:checked~label.sk-toggleable__label {background-color: #d4ebff;}#sk-container-id-2 div.sk-label input.sk-toggleable__control:checked~label.sk-toggleable__label {background-color: #d4ebff;}#sk-container-id-2 input.sk-hidden--visually {border: 0;clip: rect(1px 1px 1px 1px);clip: rect(1px, 1px, 1px, 1px);height: 1px;margin: -1px;overflow: hidden;padding: 0;position: absolute;width: 1px;}#sk-container-id-2 div.sk-estimator {font-family: monospace;background-color: #f0f8ff;border: 1px dotted black;border-radius: 0.25em;box-sizing: border-box;margin-bottom: 0.5em;}#sk-container-id-2 div.sk-estimator:hover {background-color: #d4ebff;}#sk-container-id-2 div.sk-parallel-item::after {content: \"\";width: 100%;border-bottom: 1px solid gray;flex-grow: 1;}#sk-container-id-2 div.sk-label:hover label.sk-toggleable__label {background-color: #d4ebff;}#sk-container-id-2 div.sk-serial::before {content: \"\";position: absolute;border-left: 1px solid gray;box-sizing: border-box;top: 0;bottom: 0;left: 50%;z-index: 0;}#sk-container-id-2 div.sk-serial {display: flex;flex-direction: column;align-items: center;background-color: white;padding-right: 0.2em;padding-left: 0.2em;position: relative;}#sk-container-id-2 div.sk-item {position: relative;z-index: 1;}#sk-container-id-2 div.sk-parallel {display: flex;align-items: stretch;justify-content: center;background-color: white;position: relative;}#sk-container-id-2 div.sk-item::before, #sk-container-id-2 div.sk-parallel-item::before {content: \"\";position: absolute;border-left: 1px solid gray;box-sizing: border-box;top: 0;bottom: 0;left: 50%;z-index: -1;}#sk-container-id-2 div.sk-parallel-item {display: flex;flex-direction: column;z-index: 1;position: relative;background-color: white;}#sk-container-id-2 div.sk-parallel-item:first-child::after {align-self: flex-end;width: 50%;}#sk-container-id-2 div.sk-parallel-item:last-child::after {align-self: flex-start;width: 50%;}#sk-container-id-2 div.sk-parallel-item:only-child::after {width: 0;}#sk-container-id-2 div.sk-dashed-wrapped {border: 1px dashed gray;margin: 0 0.4em 0.5em 0.4em;box-sizing: border-box;padding-bottom: 0.4em;background-color: white;}#sk-container-id-2 div.sk-label label {font-family: monospace;font-weight: bold;display: inline-block;line-height: 1.2em;}#sk-container-id-2 div.sk-label-container {text-align: center;}#sk-container-id-2 div.sk-container {/* jupyter's `normalize.less` sets `[hidden] { display: none; }` but bootstrap.min.css set `[hidden] { display: none !important; }` so we also need the `!important` here to be able to override the default hidden behavior on the sphinx rendered scikit-learn.org. See: https://github.com/scikit-learn/scikit-learn/issues/21755 */display: inline-block !important;position: relative;}#sk-container-id-2 div.sk-text-repr-fallback {display: none;}</style><div id=\"sk-container-id-2\" class=\"sk-top-container\"><div class=\"sk-text-repr-fallback\"><pre>Pipeline(steps=[(&#x27;preprocessor&#x27;,\n",
       "                 ColumnTransformer(remainder=&#x27;passthrough&#x27;,\n",
       "                                   transformers=[(&#x27;num&#x27;, StandardScaler(),\n",
       "                                                  [&#x27;property_type&#x27;, &#x27;bedRoom&#x27;,\n",
       "                                                   &#x27;bathroom&#x27;, &#x27;built_up_area&#x27;,\n",
       "                                                   &#x27;servant room&#x27;,\n",
       "                                                   &#x27;store room&#x27;]),\n",
       "                                                 (&#x27;cat&#x27;,\n",
       "                                                  OneHotEncoder(drop=&#x27;first&#x27;),\n",
       "                                                  [&#x27;sector&#x27;, &#x27;balcony&#x27;,\n",
       "                                                   &#x27;agePossession&#x27;,\n",
       "                                                   &#x27;furnishing_type&#x27;,\n",
       "                                                   &#x27;luxury_category&#x27;,\n",
       "                                                   &#x27;floor_category&#x27;])])),\n",
       "                (&#x27;regressor&#x27;, SVR())])</pre><b>In a Jupyter environment, please rerun this cell to show the HTML representation or trust the notebook. <br />On GitHub, the HTML representation is unable to render, please try loading this page with nbviewer.org.</b></div><div class=\"sk-container\" hidden><div class=\"sk-item sk-dashed-wrapped\"><div class=\"sk-label-container\"><div class=\"sk-label sk-toggleable\"><input class=\"sk-toggleable__control sk-hidden--visually\" id=\"sk-estimator-id-10\" type=\"checkbox\" ><label for=\"sk-estimator-id-10\" class=\"sk-toggleable__label sk-toggleable__label-arrow\">Pipeline</label><div class=\"sk-toggleable__content\"><pre>Pipeline(steps=[(&#x27;preprocessor&#x27;,\n",
       "                 ColumnTransformer(remainder=&#x27;passthrough&#x27;,\n",
       "                                   transformers=[(&#x27;num&#x27;, StandardScaler(),\n",
       "                                                  [&#x27;property_type&#x27;, &#x27;bedRoom&#x27;,\n",
       "                                                   &#x27;bathroom&#x27;, &#x27;built_up_area&#x27;,\n",
       "                                                   &#x27;servant room&#x27;,\n",
       "                                                   &#x27;store room&#x27;]),\n",
       "                                                 (&#x27;cat&#x27;,\n",
       "                                                  OneHotEncoder(drop=&#x27;first&#x27;),\n",
       "                                                  [&#x27;sector&#x27;, &#x27;balcony&#x27;,\n",
       "                                                   &#x27;agePossession&#x27;,\n",
       "                                                   &#x27;furnishing_type&#x27;,\n",
       "                                                   &#x27;luxury_category&#x27;,\n",
       "                                                   &#x27;floor_category&#x27;])])),\n",
       "                (&#x27;regressor&#x27;, SVR())])</pre></div></div></div><div class=\"sk-serial\"><div class=\"sk-item sk-dashed-wrapped\"><div class=\"sk-label-container\"><div class=\"sk-label sk-toggleable\"><input class=\"sk-toggleable__control sk-hidden--visually\" id=\"sk-estimator-id-11\" type=\"checkbox\" ><label for=\"sk-estimator-id-11\" class=\"sk-toggleable__label sk-toggleable__label-arrow\">preprocessor: ColumnTransformer</label><div class=\"sk-toggleable__content\"><pre>ColumnTransformer(remainder=&#x27;passthrough&#x27;,\n",
       "                  transformers=[(&#x27;num&#x27;, StandardScaler(),\n",
       "                                 [&#x27;property_type&#x27;, &#x27;bedRoom&#x27;, &#x27;bathroom&#x27;,\n",
       "                                  &#x27;built_up_area&#x27;, &#x27;servant room&#x27;,\n",
       "                                  &#x27;store room&#x27;]),\n",
       "                                (&#x27;cat&#x27;, OneHotEncoder(drop=&#x27;first&#x27;),\n",
       "                                 [&#x27;sector&#x27;, &#x27;balcony&#x27;, &#x27;agePossession&#x27;,\n",
       "                                  &#x27;furnishing_type&#x27;, &#x27;luxury_category&#x27;,\n",
       "                                  &#x27;floor_category&#x27;])])</pre></div></div></div><div class=\"sk-parallel\"><div class=\"sk-parallel-item\"><div class=\"sk-item\"><div class=\"sk-label-container\"><div class=\"sk-label sk-toggleable\"><input class=\"sk-toggleable__control sk-hidden--visually\" id=\"sk-estimator-id-12\" type=\"checkbox\" ><label for=\"sk-estimator-id-12\" class=\"sk-toggleable__label sk-toggleable__label-arrow\">num</label><div class=\"sk-toggleable__content\"><pre>[&#x27;property_type&#x27;, &#x27;bedRoom&#x27;, &#x27;bathroom&#x27;, &#x27;built_up_area&#x27;, &#x27;servant room&#x27;, &#x27;store room&#x27;]</pre></div></div></div><div class=\"sk-serial\"><div class=\"sk-item\"><div class=\"sk-estimator sk-toggleable\"><input class=\"sk-toggleable__control sk-hidden--visually\" id=\"sk-estimator-id-13\" type=\"checkbox\" ><label for=\"sk-estimator-id-13\" class=\"sk-toggleable__label sk-toggleable__label-arrow\">StandardScaler</label><div class=\"sk-toggleable__content\"><pre>StandardScaler()</pre></div></div></div></div></div></div><div class=\"sk-parallel-item\"><div class=\"sk-item\"><div class=\"sk-label-container\"><div class=\"sk-label sk-toggleable\"><input class=\"sk-toggleable__control sk-hidden--visually\" id=\"sk-estimator-id-14\" type=\"checkbox\" ><label for=\"sk-estimator-id-14\" class=\"sk-toggleable__label sk-toggleable__label-arrow\">cat</label><div class=\"sk-toggleable__content\"><pre>[&#x27;sector&#x27;, &#x27;balcony&#x27;, &#x27;agePossession&#x27;, &#x27;furnishing_type&#x27;, &#x27;luxury_category&#x27;, &#x27;floor_category&#x27;]</pre></div></div></div><div class=\"sk-serial\"><div class=\"sk-item\"><div class=\"sk-estimator sk-toggleable\"><input class=\"sk-toggleable__control sk-hidden--visually\" id=\"sk-estimator-id-15\" type=\"checkbox\" ><label for=\"sk-estimator-id-15\" class=\"sk-toggleable__label sk-toggleable__label-arrow\">OneHotEncoder</label><div class=\"sk-toggleable__content\"><pre>OneHotEncoder(drop=&#x27;first&#x27;)</pre></div></div></div></div></div></div><div class=\"sk-parallel-item\"><div class=\"sk-item\"><div class=\"sk-label-container\"><div class=\"sk-label sk-toggleable\"><input class=\"sk-toggleable__control sk-hidden--visually\" id=\"sk-estimator-id-16\" type=\"checkbox\" ><label for=\"sk-estimator-id-16\" class=\"sk-toggleable__label sk-toggleable__label-arrow\">remainder</label><div class=\"sk-toggleable__content\"><pre>[]</pre></div></div></div><div class=\"sk-serial\"><div class=\"sk-item\"><div class=\"sk-estimator sk-toggleable\"><input class=\"sk-toggleable__control sk-hidden--visually\" id=\"sk-estimator-id-17\" type=\"checkbox\" ><label for=\"sk-estimator-id-17\" class=\"sk-toggleable__label sk-toggleable__label-arrow\">passthrough</label><div class=\"sk-toggleable__content\"><pre>passthrough</pre></div></div></div></div></div></div></div></div><div class=\"sk-item\"><div class=\"sk-estimator sk-toggleable\"><input class=\"sk-toggleable__control sk-hidden--visually\" id=\"sk-estimator-id-18\" type=\"checkbox\" ><label for=\"sk-estimator-id-18\" class=\"sk-toggleable__label sk-toggleable__label-arrow\">SVR</label><div class=\"sk-toggleable__content\"><pre>SVR()</pre></div></div></div></div></div></div></div>"
      ],
      "text/plain": [
       "Pipeline(steps=[('preprocessor',\n",
       "                 ColumnTransformer(remainder='passthrough',\n",
       "                                   transformers=[('num', StandardScaler(),\n",
       "                                                  ['property_type', 'bedRoom',\n",
       "                                                   'bathroom', 'built_up_area',\n",
       "                                                   'servant room',\n",
       "                                                   'store room']),\n",
       "                                                 ('cat',\n",
       "                                                  OneHotEncoder(drop='first'),\n",
       "                                                  ['sector', 'balcony',\n",
       "                                                   'agePossession',\n",
       "                                                   'furnishing_type',\n",
       "                                                   'luxury_category',\n",
       "                                                   'floor_category'])])),\n",
       "                ('regressor', SVR())])"
      ]
     },
     "execution_count": 26,
     "metadata": {},
     "output_type": "execute_result"
    }
   ],
   "source": [
    "pipeline.fit(X_train, y_train)"
   ]
  },
  {
   "cell_type": "code",
   "execution_count": 27,
   "id": "ab832e06",
   "metadata": {},
   "outputs": [],
   "source": [
    "y_pred = pipeline.predict(X_test)"
   ]
  },
  {
   "cell_type": "code",
   "execution_count": 28,
   "id": "8265fbca",
   "metadata": {},
   "outputs": [],
   "source": [
    "y_pred = np.expm1(y_pred)"
   ]
  },
  {
   "cell_type": "code",
   "execution_count": 29,
   "id": "1efad753",
   "metadata": {},
   "outputs": [
    {
     "data": {
      "text/plain": [
       "0.5322688526359813"
      ]
     },
     "execution_count": 29,
     "metadata": {},
     "output_type": "execute_result"
    }
   ],
   "source": [
    "from sklearn.metrics import mean_absolute_error\n",
    "mean_absolute_error(np.expm1(y_test), y_pred)"
   ]
  },
  {
   "cell_type": "code",
   "execution_count": null,
   "id": "3c8d65a8",
   "metadata": {},
   "outputs": [],
   "source": []
  }
 ],
 "metadata": {
  "kernelspec": {
   "display_name": "Python 3 (ipykernel)",
   "language": "python",
   "name": "python3"
  },
  "language_info": {
   "codemirror_mode": {
    "name": "ipython",
    "version": 3
   },
   "file_extension": ".py",
   "mimetype": "text/x-python",
   "name": "python",
   "nbconvert_exporter": "python",
   "pygments_lexer": "ipython3",
   "version": "3.11.4"
  }
 },
 "nbformat": 4,
 "nbformat_minor": 5
}
